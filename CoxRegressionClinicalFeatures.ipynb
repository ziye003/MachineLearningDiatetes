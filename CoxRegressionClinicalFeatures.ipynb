{
 "cells": [
  {
   "cell_type": "code",
   "execution_count": 4,
   "metadata": {},
   "outputs": [],
   "source": [
    "import sqlite3\n",
    "import pandas as pd\n",
    "import numpy as np\n",
    "import re\n",
    "import matplotlib.pyplot as plt"
   ]
  },
  {
   "cell_type": "markdown",
   "metadata": {},
   "source": [
    "# Data cleaning\n",
    "Fill missing data and remove unused columns"
   ]
  },
  {
   "cell_type": "code",
   "execution_count": null,
   "metadata": {},
   "outputs": [],
   "source": [
    "df = pd.read_csv(\"diabetes_project_dataset.csv\") "
   ]
  },
  {
   "cell_type": "code",
   "execution_count": null,
   "metadata": {},
   "outputs": [],
   "source": [
    "df.head(8)"
   ]
  },
  {
   "cell_type": "code",
   "execution_count": null,
   "metadata": {},
   "outputs": [],
   "source": [
    "df.shape"
   ]
  },
  {
   "cell_type": "code",
   "execution_count": null,
   "metadata": {},
   "outputs": [],
   "source": [
    "# drop existing diabetes\n",
    "df=df[df['existing_diabetes']!=1.0]\n",
    "df = df.drop(['existing_diabetes'], axis = 1)\n",
    "df.head()"
   ]
  },
  {
   "cell_type": "code",
   "execution_count": null,
   "metadata": {},
   "outputs": [],
   "source": [
    "#drop columns with all NaNs\n",
    "#df.dropna(axis=1,how='all')"
   ]
  },
  {
   "cell_type": "code",
   "execution_count": null,
   "metadata": {},
   "outputs": [],
   "source": [
    "#for individual features, check for missing values\n",
    "idv_df=df[df.columns.drop(list(df.filter(regex='^mtb*',axis=1)))]\n",
    "idv_df.shape"
   ]
  },
  {
   "cell_type": "code",
   "execution_count": null,
   "metadata": {},
   "outputs": [],
   "source": []
  },
  {
   "cell_type": "code",
   "execution_count": 139,
   "metadata": {},
   "outputs": [],
   "source": [
    "#for individual features, drop sampless with NaN. \n",
    "clean_idv_df=idv_df.dropna(subset=idv_df.columns,how='any')"
   ]
  },
  {
   "cell_type": "code",
   "execution_count": 140,
   "metadata": {},
   "outputs": [
    {
     "data": {
      "text/plain": [
       "(1741, 22)"
      ]
     },
     "execution_count": 140,
     "metadata": {},
     "output_type": "execute_result"
    }
   ],
   "source": [
    "clean_idv_df.shape"
   ]
  },
  {
   "cell_type": "code",
   "execution_count": 141,
   "metadata": {},
   "outputs": [],
   "source": [
    "# for the rest of NaNs in blood marker, fill na with zero. Check\n",
    "#clean_df=clean_df.fillna(0)\n",
    "#clean_df.isna().sum()"
   ]
  },
  {
   "cell_type": "code",
   "execution_count": null,
   "metadata": {},
   "outputs": [],
   "source": []
  },
  {
   "cell_type": "code",
   "execution_count": null,
   "metadata": {},
   "outputs": [],
   "source": []
  },
  {
   "cell_type": "code",
   "execution_count": null,
   "metadata": {},
   "outputs": [],
   "source": []
  },
  {
   "cell_type": "markdown",
   "metadata": {},
   "source": [
    "# Survival analysis for individual features"
   ]
  },
  {
   "cell_type": "code",
   "execution_count": 11,
   "metadata": {},
   "outputs": [
    {
     "data": {
      "text/plain": [
       "(1741, 22)"
      ]
     },
     "execution_count": 11,
     "metadata": {},
     "output_type": "execute_result"
    }
   ],
   "source": [
    "clean_idv_df=idv_df.dropna(axis=0,how='any',inplace=False)\n",
    "clean_idv_df.shape"
   ]
  },
  {
   "cell_type": "code",
   "execution_count": 12,
   "metadata": {},
   "outputs": [],
   "source": [
    "from lifelines import CoxPHFitter"
   ]
  },
  {
   "cell_type": "code",
   "execution_count": 13,
   "metadata": {},
   "outputs": [],
   "source": [
    "#checking parameters for individual features\n",
    "#data=clean_df[clean_df.columns.drop(list(clean_df.filter(regex='^mtb*',axis=1)))]\n",
    "data=clean_idv_df"
   ]
  },
  {
   "cell_type": "code",
   "execution_count": 14,
   "metadata": {},
   "outputs": [
    {
     "name": "stderr",
     "output_type": "stream",
     "text": [
      "C:\\Users\\Zi Ye\\anaconda3\\lib\\site-packages\\lifelines\\fitters\\coxph_fitter.py:1593: ConvergenceWarning: Newton-Rhaphson failed to converge sufficiently. Please see the following tips in the lifelines documentation: https://lifelines.readthedocs.io/en/latest/Examples.html#problems-with-convergence-in-the-cox-proportional-hazard-model\n",
      "  \"Newton-Rhaphson failed to converge sufficiently. {0}\".format(CONVERGENCE_DOCS), exceptions.ConvergenceWarning\n"
     ]
    },
    {
     "data": {
      "text/html": [
       "<div>\n",
       "<style scoped>\n",
       "    .dataframe tbody tr th:only-of-type {\n",
       "        vertical-align: middle;\n",
       "    }\n",
       "\n",
       "    .dataframe tbody tr th {\n",
       "        vertical-align: top;\n",
       "    }\n",
       "\n",
       "    .dataframe thead th {\n",
       "        text-align: right;\n",
       "    }\n",
       "</style>\n",
       "<table border=\"1\" class=\"dataframe\">\n",
       "  <tbody>\n",
       "    <tr>\n",
       "      <th>model</th>\n",
       "      <td>lifelines.CoxPHFitter</td>\n",
       "    </tr>\n",
       "    <tr>\n",
       "      <th>duration col</th>\n",
       "      <td>'diabetes_time'</td>\n",
       "    </tr>\n",
       "    <tr>\n",
       "      <th>event col</th>\n",
       "      <td>'incident_diabetes'</td>\n",
       "    </tr>\n",
       "    <tr>\n",
       "      <th>baseline estimation</th>\n",
       "      <td>breslow</td>\n",
       "    </tr>\n",
       "    <tr>\n",
       "      <th>number of observations</th>\n",
       "      <td>1741</td>\n",
       "    </tr>\n",
       "    <tr>\n",
       "      <th>number of events observed</th>\n",
       "      <td>220</td>\n",
       "    </tr>\n",
       "    <tr>\n",
       "      <th>partial log-likelihood</th>\n",
       "      <td>-2822.02</td>\n",
       "    </tr>\n",
       "    <tr>\n",
       "      <th>time fit was run</th>\n",
       "      <td>2021-04-17 22:22:23 UTC</td>\n",
       "    </tr>\n",
       "  </tbody>\n",
       "</table>\n",
       "</div><table border=\"1\" class=\"dataframe\">\n",
       "  <thead>\n",
       "    <tr style=\"text-align: right;\">\n",
       "      <th style=\"min-width: 12px;\"></th>\n",
       "      <th style=\"min-width: 12px;\">coef</th>\n",
       "      <th style=\"min-width: 12px;\">exp(coef)</th>\n",
       "      <th style=\"min-width: 12px;\">se(coef)</th>\n",
       "      <th style=\"min-width: 12px;\">coef lower 95%</th>\n",
       "      <th style=\"min-width: 12px;\">coef upper 95%</th>\n",
       "      <th style=\"min-width: 12px;\">exp(coef) lower 95%</th>\n",
       "      <th style=\"min-width: 12px;\">exp(coef) upper 95%</th>\n",
       "      <th style=\"min-width: 12px;\">z</th>\n",
       "      <th style=\"min-width: 12px;\">p</th>\n",
       "      <th style=\"min-width: 12px;\">-log2(p)</th>\n",
       "    </tr>\n",
       "  </thead>\n",
       "  <tbody>\n",
       "    <tr>\n",
       "      <th>SampleID</th>\n",
       "      <td>0.00</td>\n",
       "      <td>1.00</td>\n",
       "      <td>0.00</td>\n",
       "      <td>0.00</td>\n",
       "      <td>0.00</td>\n",
       "      <td>1.00</td>\n",
       "      <td>1.00</td>\n",
       "      <td>9.01</td>\n",
       "      <td>&lt;0.005</td>\n",
       "      <td>62.09</td>\n",
       "    </tr>\n",
       "    <tr>\n",
       "      <th>age</th>\n",
       "      <td>0.05</td>\n",
       "      <td>1.05</td>\n",
       "      <td>0.01</td>\n",
       "      <td>0.03</td>\n",
       "      <td>0.08</td>\n",
       "      <td>1.03</td>\n",
       "      <td>1.08</td>\n",
       "      <td>3.90</td>\n",
       "      <td>&lt;0.005</td>\n",
       "      <td>13.36</td>\n",
       "    </tr>\n",
       "    <tr>\n",
       "      <th>male</th>\n",
       "      <td>2.42</td>\n",
       "      <td>11.27</td>\n",
       "      <td>0.34</td>\n",
       "      <td>1.76</td>\n",
       "      <td>3.08</td>\n",
       "      <td>5.84</td>\n",
       "      <td>21.77</td>\n",
       "      <td>7.22</td>\n",
       "      <td>&lt;0.005</td>\n",
       "      <td>40.77</td>\n",
       "    </tr>\n",
       "    <tr>\n",
       "      <th>BMI</th>\n",
       "      <td>0.29</td>\n",
       "      <td>1.34</td>\n",
       "      <td>0.03</td>\n",
       "      <td>0.24</td>\n",
       "      <td>0.34</td>\n",
       "      <td>1.27</td>\n",
       "      <td>1.41</td>\n",
       "      <td>10.98</td>\n",
       "      <td>&lt;0.005</td>\n",
       "      <td>90.82</td>\n",
       "    </tr>\n",
       "    <tr>\n",
       "      <th>HDL</th>\n",
       "      <td>-0.45</td>\n",
       "      <td>0.64</td>\n",
       "      <td>0.31</td>\n",
       "      <td>-1.05</td>\n",
       "      <td>0.16</td>\n",
       "      <td>0.35</td>\n",
       "      <td>1.17</td>\n",
       "      <td>-1.45</td>\n",
       "      <td>0.15</td>\n",
       "      <td>2.78</td>\n",
       "    </tr>\n",
       "    <tr>\n",
       "      <th>LDL</th>\n",
       "      <td>0.63</td>\n",
       "      <td>1.88</td>\n",
       "      <td>0.09</td>\n",
       "      <td>0.45</td>\n",
       "      <td>0.82</td>\n",
       "      <td>1.57</td>\n",
       "      <td>2.26</td>\n",
       "      <td>6.75</td>\n",
       "      <td>&lt;0.005</td>\n",
       "      <td>36.03</td>\n",
       "    </tr>\n",
       "    <tr>\n",
       "      <th>trig</th>\n",
       "      <td>-0.31</td>\n",
       "      <td>0.73</td>\n",
       "      <td>0.12</td>\n",
       "      <td>-0.53</td>\n",
       "      <td>-0.08</td>\n",
       "      <td>0.59</td>\n",
       "      <td>0.92</td>\n",
       "      <td>-2.68</td>\n",
       "      <td>0.01</td>\n",
       "      <td>7.08</td>\n",
       "    </tr>\n",
       "    <tr>\n",
       "      <th>SBP</th>\n",
       "      <td>0.02</td>\n",
       "      <td>1.02</td>\n",
       "      <td>0.00</td>\n",
       "      <td>0.02</td>\n",
       "      <td>0.03</td>\n",
       "      <td>1.02</td>\n",
       "      <td>1.03</td>\n",
       "      <td>6.32</td>\n",
       "      <td>&lt;0.005</td>\n",
       "      <td>31.86</td>\n",
       "    </tr>\n",
       "    <tr>\n",
       "      <th>DBP</th>\n",
       "      <td>-0.11</td>\n",
       "      <td>0.89</td>\n",
       "      <td>0.01</td>\n",
       "      <td>-0.13</td>\n",
       "      <td>-0.09</td>\n",
       "      <td>0.88</td>\n",
       "      <td>0.91</td>\n",
       "      <td>-10.43</td>\n",
       "      <td>&lt;0.005</td>\n",
       "      <td>82.21</td>\n",
       "    </tr>\n",
       "    <tr>\n",
       "      <th>hypertension</th>\n",
       "      <td>-0.09</td>\n",
       "      <td>0.91</td>\n",
       "      <td>0.18</td>\n",
       "      <td>-0.44</td>\n",
       "      <td>0.26</td>\n",
       "      <td>0.64</td>\n",
       "      <td>1.30</td>\n",
       "      <td>-0.50</td>\n",
       "      <td>0.62</td>\n",
       "      <td>0.70</td>\n",
       "    </tr>\n",
       "    <tr>\n",
       "      <th>fasting</th>\n",
       "      <td>-0.21</td>\n",
       "      <td>0.81</td>\n",
       "      <td>0.04</td>\n",
       "      <td>-0.28</td>\n",
       "      <td>-0.13</td>\n",
       "      <td>0.75</td>\n",
       "      <td>0.88</td>\n",
       "      <td>-5.44</td>\n",
       "      <td>&lt;0.005</td>\n",
       "      <td>24.16</td>\n",
       "    </tr>\n",
       "    <tr>\n",
       "      <th>fasting_glucose</th>\n",
       "      <td>0.57</td>\n",
       "      <td>1.76</td>\n",
       "      <td>0.15</td>\n",
       "      <td>0.28</td>\n",
       "      <td>0.85</td>\n",
       "      <td>1.32</td>\n",
       "      <td>2.34</td>\n",
       "      <td>3.88</td>\n",
       "      <td>&lt;0.005</td>\n",
       "      <td>13.21</td>\n",
       "    </tr>\n",
       "    <tr>\n",
       "      <th>fasting_insulin</th>\n",
       "      <td>-0.04</td>\n",
       "      <td>0.96</td>\n",
       "      <td>0.02</td>\n",
       "      <td>-0.08</td>\n",
       "      <td>0.01</td>\n",
       "      <td>0.92</td>\n",
       "      <td>1.01</td>\n",
       "      <td>-1.65</td>\n",
       "      <td>0.10</td>\n",
       "      <td>3.35</td>\n",
       "    </tr>\n",
       "    <tr>\n",
       "      <th>HbA1c</th>\n",
       "      <td>-0.60</td>\n",
       "      <td>0.55</td>\n",
       "      <td>0.03</td>\n",
       "      <td>-0.67</td>\n",
       "      <td>-0.53</td>\n",
       "      <td>0.51</td>\n",
       "      <td>0.59</td>\n",
       "      <td>-17.29</td>\n",
       "      <td>&lt;0.005</td>\n",
       "      <td>220.11</td>\n",
       "    </tr>\n",
       "    <tr>\n",
       "      <th>current_smoker</th>\n",
       "      <td>-0.34</td>\n",
       "      <td>0.71</td>\n",
       "      <td>0.35</td>\n",
       "      <td>-1.03</td>\n",
       "      <td>0.35</td>\n",
       "      <td>0.36</td>\n",
       "      <td>1.41</td>\n",
       "      <td>-0.98</td>\n",
       "      <td>0.33</td>\n",
       "      <td>1.61</td>\n",
       "    </tr>\n",
       "    <tr>\n",
       "      <th>ex_smoker</th>\n",
       "      <td>0.82</td>\n",
       "      <td>2.28</td>\n",
       "      <td>0.18</td>\n",
       "      <td>0.46</td>\n",
       "      <td>1.18</td>\n",
       "      <td>1.58</td>\n",
       "      <td>3.27</td>\n",
       "      <td>4.45</td>\n",
       "      <td>&lt;0.005</td>\n",
       "      <td>16.82</td>\n",
       "    </tr>\n",
       "    <tr>\n",
       "      <th>exercise</th>\n",
       "      <td>0.87</td>\n",
       "      <td>2.39</td>\n",
       "      <td>0.14</td>\n",
       "      <td>0.60</td>\n",
       "      <td>1.13</td>\n",
       "      <td>1.83</td>\n",
       "      <td>3.11</td>\n",
       "      <td>6.44</td>\n",
       "      <td>&lt;0.005</td>\n",
       "      <td>32.95</td>\n",
       "    </tr>\n",
       "    <tr>\n",
       "      <th>healthy_vegetables</th>\n",
       "      <td>-0.04</td>\n",
       "      <td>0.96</td>\n",
       "      <td>0.04</td>\n",
       "      <td>-0.12</td>\n",
       "      <td>0.04</td>\n",
       "      <td>0.89</td>\n",
       "      <td>1.04</td>\n",
       "      <td>-1.05</td>\n",
       "      <td>0.29</td>\n",
       "      <td>1.77</td>\n",
       "    </tr>\n",
       "    <tr>\n",
       "      <th>junk_food</th>\n",
       "      <td>-0.29</td>\n",
       "      <td>0.75</td>\n",
       "      <td>0.06</td>\n",
       "      <td>-0.40</td>\n",
       "      <td>-0.18</td>\n",
       "      <td>0.67</td>\n",
       "      <td>0.84</td>\n",
       "      <td>-5.21</td>\n",
       "      <td>&lt;0.005</td>\n",
       "      <td>22.35</td>\n",
       "    </tr>\n",
       "    <tr>\n",
       "      <th>total_fiber</th>\n",
       "      <td>-0.14</td>\n",
       "      <td>0.87</td>\n",
       "      <td>0.02</td>\n",
       "      <td>-0.19</td>\n",
       "      <td>-0.10</td>\n",
       "      <td>0.83</td>\n",
       "      <td>0.91</td>\n",
       "      <td>-6.12</td>\n",
       "      <td>&lt;0.005</td>\n",
       "      <td>30.03</td>\n",
       "    </tr>\n",
       "  </tbody>\n",
       "</table><br><div>\n",
       "<style scoped>\n",
       "    .dataframe tbody tr th:only-of-type {\n",
       "        vertical-align: middle;\n",
       "    }\n",
       "\n",
       "    .dataframe tbody tr th {\n",
       "        vertical-align: top;\n",
       "    }\n",
       "\n",
       "    .dataframe thead th {\n",
       "        text-align: right;\n",
       "    }\n",
       "</style>\n",
       "<table border=\"1\" class=\"dataframe\">\n",
       "  <tbody>\n",
       "    <tr>\n",
       "      <th>Concordance</th>\n",
       "      <td>0.42</td>\n",
       "    </tr>\n",
       "    <tr>\n",
       "      <th>Partial AIC</th>\n",
       "      <td>5684.03</td>\n",
       "    </tr>\n",
       "    <tr>\n",
       "      <th>log-likelihood ratio test</th>\n",
       "      <td>-2413.88 on 20 df</td>\n",
       "    </tr>\n",
       "    <tr>\n",
       "      <th>-log2(p) of ll-ratio test</th>\n",
       "      <td>-0.00</td>\n",
       "    </tr>\n",
       "  </tbody>\n",
       "</table>\n",
       "</div>"
      ],
      "text/latex": [
       "\\begin{tabular}{lrrrrrrrrrr}\n",
       "\\toprule\n",
       "{} &  coef &  exp(coef) &  se(coef) &  coef lower 95\\% &  coef upper 95\\% &  exp(coef) lower 95\\% &  exp(coef) upper 95\\% &      z &    p &  -log2(p) \\\\\n",
       "covariate          &       &            &           &                 &                 &                      &                      &        &      &           \\\\\n",
       "\\midrule\n",
       "SampleID           &  0.00 &       1.00 &      0.00 &            0.00 &            0.00 &                 1.00 &                 1.00 &   9.01 & 0.00 &     62.09 \\\\\n",
       "age                &  0.05 &       1.05 &      0.01 &            0.03 &            0.08 &                 1.03 &                 1.08 &   3.90 & 0.00 &     13.36 \\\\\n",
       "male               &  2.42 &      11.27 &      0.34 &            1.76 &            3.08 &                 5.84 &                21.77 &   7.22 & 0.00 &     40.77 \\\\\n",
       "BMI                &  0.29 &       1.34 &      0.03 &            0.24 &            0.34 &                 1.27 &                 1.41 &  10.98 & 0.00 &     90.82 \\\\\n",
       "HDL                & -0.45 &       0.64 &      0.31 &           -1.05 &            0.16 &                 0.35 &                 1.17 &  -1.45 & 0.15 &      2.78 \\\\\n",
       "LDL                &  0.63 &       1.88 &      0.09 &            0.45 &            0.82 &                 1.57 &                 2.26 &   6.75 & 0.00 &     36.03 \\\\\n",
       "trig               & -0.31 &       0.73 &      0.12 &           -0.53 &           -0.08 &                 0.59 &                 0.92 &  -2.68 & 0.01 &      7.08 \\\\\n",
       "SBP                &  0.02 &       1.02 &      0.00 &            0.02 &            0.03 &                 1.02 &                 1.03 &   6.32 & 0.00 &     31.86 \\\\\n",
       "DBP                & -0.11 &       0.89 &      0.01 &           -0.13 &           -0.09 &                 0.88 &                 0.91 & -10.43 & 0.00 &     82.21 \\\\\n",
       "hypertension       & -0.09 &       0.91 &      0.18 &           -0.44 &            0.26 &                 0.64 &                 1.30 &  -0.50 & 0.62 &      0.70 \\\\\n",
       "fasting            & -0.21 &       0.81 &      0.04 &           -0.28 &           -0.13 &                 0.75 &                 0.88 &  -5.44 & 0.00 &     24.16 \\\\\n",
       "fasting\\_glucose    &  0.57 &       1.76 &      0.15 &            0.28 &            0.85 &                 1.32 &                 2.34 &   3.88 & 0.00 &     13.21 \\\\\n",
       "fasting\\_insulin    & -0.04 &       0.96 &      0.02 &           -0.08 &            0.01 &                 0.92 &                 1.01 &  -1.65 & 0.10 &      3.35 \\\\\n",
       "HbA1c              & -0.60 &       0.55 &      0.03 &           -0.67 &           -0.53 &                 0.51 &                 0.59 & -17.29 & 0.00 &    220.11 \\\\\n",
       "current\\_smoker     & -0.34 &       0.71 &      0.35 &           -1.03 &            0.35 &                 0.36 &                 1.41 &  -0.98 & 0.33 &      1.61 \\\\\n",
       "ex\\_smoker          &  0.82 &       2.28 &      0.18 &            0.46 &            1.18 &                 1.58 &                 3.27 &   4.45 & 0.00 &     16.82 \\\\\n",
       "exercise           &  0.87 &       2.39 &      0.14 &            0.60 &            1.13 &                 1.83 &                 3.11 &   6.44 & 0.00 &     32.95 \\\\\n",
       "healthy\\_vegetables & -0.04 &       0.96 &      0.04 &           -0.12 &            0.04 &                 0.89 &                 1.04 &  -1.05 & 0.29 &      1.77 \\\\\n",
       "junk\\_food          & -0.29 &       0.75 &      0.06 &           -0.40 &           -0.18 &                 0.67 &                 0.84 &  -5.21 & 0.00 &     22.35 \\\\\n",
       "total\\_fiber        & -0.14 &       0.87 &      0.02 &           -0.19 &           -0.10 &                 0.83 &                 0.91 &  -6.12 & 0.00 &     30.03 \\\\\n",
       "\\bottomrule\n",
       "\\end{tabular}\n"
      ],
      "text/plain": [
       "<lifelines.CoxPHFitter: fitted with 1741 total observations, 1521 right-censored observations>\n",
       "             duration col = 'diabetes_time'\n",
       "                event col = 'incident_diabetes'\n",
       "      baseline estimation = breslow\n",
       "   number of observations = 1741\n",
       "number of events observed = 220\n",
       "   partial log-likelihood = -2822.02\n",
       "         time fit was run = 2021-04-17 22:22:23 UTC\n",
       "\n",
       "---\n",
       "                     coef  exp(coef)   se(coef)   coef lower 95%   coef upper 95%  exp(coef) lower 95%  exp(coef) upper 95%\n",
       "covariate                                                                                                                  \n",
       "SampleID             0.00       1.00       0.00             0.00             0.00                 1.00                 1.00\n",
       "age                  0.05       1.05       0.01             0.03             0.08                 1.03                 1.08\n",
       "male                 2.42      11.27       0.34             1.76             3.08                 5.84                21.77\n",
       "BMI                  0.29       1.34       0.03             0.24             0.34                 1.27                 1.41\n",
       "HDL                 -0.45       0.64       0.31            -1.05             0.16                 0.35                 1.17\n",
       "LDL                  0.63       1.88       0.09             0.45             0.82                 1.57                 2.26\n",
       "trig                -0.31       0.73       0.12            -0.53            -0.08                 0.59                 0.92\n",
       "SBP                  0.02       1.02       0.00             0.02             0.03                 1.02                 1.03\n",
       "DBP                 -0.11       0.89       0.01            -0.13            -0.09                 0.88                 0.91\n",
       "hypertension        -0.09       0.91       0.18            -0.44             0.26                 0.64                 1.30\n",
       "fasting             -0.21       0.81       0.04            -0.28            -0.13                 0.75                 0.88\n",
       "fasting_glucose      0.57       1.76       0.15             0.28             0.85                 1.32                 2.34\n",
       "fasting_insulin     -0.04       0.96       0.02            -0.08             0.01                 0.92                 1.01\n",
       "HbA1c               -0.60       0.55       0.03            -0.67            -0.53                 0.51                 0.59\n",
       "current_smoker      -0.34       0.71       0.35            -1.03             0.35                 0.36                 1.41\n",
       "ex_smoker            0.82       2.28       0.18             0.46             1.18                 1.58                 3.27\n",
       "exercise             0.87       2.39       0.14             0.60             1.13                 1.83                 3.11\n",
       "healthy_vegetables  -0.04       0.96       0.04            -0.12             0.04                 0.89                 1.04\n",
       "junk_food           -0.29       0.75       0.06            -0.40            -0.18                 0.67                 0.84\n",
       "total_fiber         -0.14       0.87       0.02            -0.19            -0.10                 0.83                 0.91\n",
       "\n",
       "                        z      p   -log2(p)\n",
       "covariate                                  \n",
       "SampleID             9.01 <0.005      62.09\n",
       "age                  3.90 <0.005      13.36\n",
       "male                 7.22 <0.005      40.77\n",
       "BMI                 10.98 <0.005      90.82\n",
       "HDL                 -1.45   0.15       2.78\n",
       "LDL                  6.75 <0.005      36.03\n",
       "trig                -2.68   0.01       7.08\n",
       "SBP                  6.32 <0.005      31.86\n",
       "DBP                -10.43 <0.005      82.21\n",
       "hypertension        -0.50   0.62       0.70\n",
       "fasting             -5.44 <0.005      24.16\n",
       "fasting_glucose      3.88 <0.005      13.21\n",
       "fasting_insulin     -1.65   0.10       3.35\n",
       "HbA1c              -17.29 <0.005     220.11\n",
       "current_smoker      -0.98   0.33       1.61\n",
       "ex_smoker            4.45 <0.005      16.82\n",
       "exercise             6.44 <0.005      32.95\n",
       "healthy_vegetables  -1.05   0.29       1.77\n",
       "junk_food           -5.21 <0.005      22.35\n",
       "total_fiber         -6.12 <0.005      30.03\n",
       "---\n",
       "Concordance = 0.42\n",
       "Partial AIC = 5684.03\n",
       "log-likelihood ratio test = -2413.88 on 20 df\n",
       "-log2(p) of ll-ratio test = -0.00"
      ]
     },
     "metadata": {},
     "output_type": "display_data"
    }
   ],
   "source": [
    "cph=CoxPHFitter()\n",
    "cph.fit(data,'diabetes_time',event_col='incident_diabetes')\n",
    "cph.print_summary()"
   ]
  },
  {
   "cell_type": "code",
   "execution_count": 15,
   "metadata": {},
   "outputs": [
    {
     "data": {
      "text/plain": [
       "Index(['male', 'BMI', 'LDL', 'fasting_glucose', 'ex_smoker', 'exercise'], dtype='object')"
      ]
     },
     "execution_count": 15,
     "metadata": {},
     "output_type": "execute_result"
    }
   ],
   "source": [
    "#harmful factors\n",
    "idx=(cph.hazard_ratios_>1.1)\n",
    "\n",
    "cfactors=data.columns.drop(['diabetes_time','incident_diabetes'])\n",
    "cfactors\n",
    "cfactors[idx]"
   ]
  },
  {
   "cell_type": "code",
   "execution_count": 19,
   "metadata": {},
   "outputs": [
    {
     "data": {
      "text/plain": [
       "Index(['SampleID', 'age', 'male', 'BMI', 'HDL', 'LDL', 'trig', 'SBP', 'DBP',\n",
       "       'hypertension', 'fasting', 'fasting_glucose', 'fasting_insulin',\n",
       "       'HbA1c', 'current_smoker', 'ex_smoker', 'exercise',\n",
       "       'healthy_vegetables', 'junk_food', 'total_fiber'],\n",
       "      dtype='object')"
      ]
     },
     "execution_count": 19,
     "metadata": {},
     "output_type": "execute_result"
    }
   ],
   "source": [
    "cfactors"
   ]
  },
  {
   "cell_type": "code",
   "execution_count": 18,
   "metadata": {},
   "outputs": [
    {
     "data": {
      "text/plain": [
       "covariate\n",
       "SampleID               1.000387\n",
       "age                    1.053640\n",
       "male                  11.274422\n",
       "BMI                    1.336243\n",
       "HDL                    0.639653\n",
       "LDL                    1.881002\n",
       "trig                   0.734661\n",
       "SBP                    1.023217\n",
       "DBP                    0.894472\n",
       "hypertension           0.914249\n",
       "fasting                0.813241\n",
       "fasting_glucose        1.760815\n",
       "fasting_insulin        0.964344\n",
       "HbA1c                  0.548738\n",
       "current_smoker         0.708839\n",
       "ex_smoker              2.275846\n",
       "exercise               2.385271\n",
       "healthy_vegetables     0.959387\n",
       "junk_food              0.750306\n",
       "total_fiber            0.868065\n",
       "Name: exp(coef), dtype: float64"
      ]
     },
     "execution_count": 18,
     "metadata": {},
     "output_type": "execute_result"
    }
   ],
   "source": [
    "#protective factors\n",
    "idx=(cph.hazard_ratios_<0.9)\n",
    "\n",
    "cfactors=data.columns.drop(['diabetes_time','incident_diabetes'])\n",
    "cfactors\n",
    "cph.hazard_ratios_\n"
   ]
  },
  {
   "cell_type": "code",
   "execution_count": 24,
   "metadata": {},
   "outputs": [
    {
     "data": {
      "image/png": "[encoded data removed]",
      "text/plain": [
       "<Figure size 1296x360 with 1 Axes>"
      ]
     },
     "metadata": {
      "needs_background": "light"
     },
     "output_type": "display_data"
    }
   ],
   "source": [
    "fig=plt.figure(figsize=(18,5))\n",
    "ax=fig.add_axes([0,0,1,1])\n",
    "width=0.8\n",
    "x=cfactors\n",
    "y=cph.hazard_ratios_\n",
    "ax.bar(x,y)\n",
    "plt.bar(x, y, color=['cyan','cyan','red','red','cyan','red', 'green','cyan','green','cyan','green','red', 'cyan', 'green', 'green','red','cyan', 'cyan', 'green', 'green'])\n",
    "plt.show()"
   ]
  },
  {
   "cell_type": "code",
   "execution_count": 17,
   "metadata": {},
   "outputs": [
    {
     "data": {
      "text/plain": [
       "Index(['SampleID', 'age', 'male', 'BMI', 'HDL', 'LDL', 'trig', 'SBP', 'DBP',\n",
       "       'hypertension', 'fasting', 'fasting_glucose', 'fasting_insulin',\n",
       "       'HbA1c', 'current_smoker', 'ex_smoker', 'exercise',\n",
       "       'healthy_vegetables', 'junk_food', 'total_fiber'],\n",
       "      dtype='object')"
      ]
     },
     "execution_count": 17,
     "metadata": {},
     "output_type": "execute_result"
    }
   ],
   "source": [
    "cfactors"
   ]
  },
  {
   "cell_type": "code",
   "execution_count": 16,
   "metadata": {},
   "outputs": [
    {
     "data": {
      "text/plain": [
       "<matplotlib.axes._subplots.AxesSubplot at 0x28881dfcf08>"
      ]
     },
     "execution_count": 16,
     "metadata": {},
     "output_type": "execute_result"
    },
    {
     "data": {
      "image/png": "[encoded data removed]",
      "text/plain": [
       "<Figure size 432x288 with 1 Axes>"
      ]
     },
     "metadata": {
      "needs_background": "light"
     },
     "output_type": "display_data"
    }
   ],
   "source": [
    "#Graphical representation of factor significance. HR =1: no effect. HR <1: reduction in the hazard   HR>1: Increase in hazard\n",
    "#log(HR)=0: no effect; >1:increase in hazard; <1:decrease in hazard \n",
    "cph.plot()"
   ]
  },
  {
   "cell_type": "code",
   "execution_count": 58,
   "metadata": {},
   "outputs": [],
   "source": [
    "# The effect of excercise on diabetes is a bit counter-intuitive, thus I took a closer look at this data\n",
    "from lifelines import KaplanMeierFitter"
   ]
  },
  {
   "cell_type": "code",
   "execution_count": 59,
   "metadata": {},
   "outputs": [],
   "source": [
    "exc_1=KaplanMeierFitter()\n",
    "exc_2=KaplanMeierFitter()\n",
    "exc_3=KaplanMeierFitter()\n",
    "exc_4=KaplanMeierFitter()\n",
    "exc_1_df=clean_idv_df.query('exercise == 1.0')\n",
    "exc_2_df=clean_idv_df.query('exercise == 2.0')\n",
    "exc_3_df=clean_idv_df.query('exercise == 3.0')\n",
    "exc_4_df=clean_idv_df.query('exercise == 4.0')"
   ]
  },
  {
   "cell_type": "code",
   "execution_count": 60,
   "metadata": {},
   "outputs": [
    {
     "data": {
      "text/plain": [
       "<lifelines.KaplanMeierFitter:\"intense exercise\", fitted with 11 total observations, 9 right-censored observations>"
      ]
     },
     "execution_count": 60,
     "metadata": {},
     "output_type": "execute_result"
    }
   ],
   "source": [
    "exc_1.fit(durations = exc_1_df['diabetes_time'],event_observed=exc_1_df['incident_diabetes'],label='No much exercise')\n",
    "exc_2.fit(durations = exc_2_df['diabetes_time'],event_observed=exc_2_df['incident_diabetes'],label='No much exercise but move')\n",
    "exc_3.fit(durations = exc_3_df['diabetes_time'],event_observed=exc_3_df['incident_diabetes'],label='3 hr exercise')\n",
    "exc_4.fit(durations = exc_4_df['diabetes_time'],event_observed=exc_4_df['incident_diabetes'],label='intense exercise')"
   ]
  },
  {
   "cell_type": "code",
   "execution_count": 149,
   "metadata": {},
   "outputs": [
    {
     "data": {
      "text/html": [
       "<div>\n",
       "<style scoped>\n",
       "    .dataframe tbody tr th:only-of-type {\n",
       "        vertical-align: middle;\n",
       "    }\n",
       "\n",
       "    .dataframe tbody tr th {\n",
       "        vertical-align: top;\n",
       "    }\n",
       "\n",
       "    .dataframe thead th {\n",
       "        text-align: right;\n",
       "    }\n",
       "</style>\n",
       "<table border=\"1\" class=\"dataframe\">\n",
       "  <thead>\n",
       "    <tr style=\"text-align: right;\">\n",
       "      <th></th>\n",
       "      <th>removed</th>\n",
       "      <th>observed</th>\n",
       "      <th>censored</th>\n",
       "      <th>entrance</th>\n",
       "      <th>at_risk</th>\n",
       "    </tr>\n",
       "    <tr>\n",
       "      <th>event_at</th>\n",
       "      <th></th>\n",
       "      <th></th>\n",
       "      <th></th>\n",
       "      <th></th>\n",
       "      <th></th>\n",
       "    </tr>\n",
       "  </thead>\n",
       "  <tbody>\n",
       "    <tr>\n",
       "      <th>0.00</th>\n",
       "      <td>0</td>\n",
       "      <td>0</td>\n",
       "      <td>0</td>\n",
       "      <td>11</td>\n",
       "      <td>11</td>\n",
       "    </tr>\n",
       "    <tr>\n",
       "      <th>8.24</th>\n",
       "      <td>1</td>\n",
       "      <td>1</td>\n",
       "      <td>0</td>\n",
       "      <td>0</td>\n",
       "      <td>11</td>\n",
       "    </tr>\n",
       "    <tr>\n",
       "      <th>8.98</th>\n",
       "      <td>1</td>\n",
       "      <td>1</td>\n",
       "      <td>0</td>\n",
       "      <td>0</td>\n",
       "      <td>10</td>\n",
       "    </tr>\n",
       "    <tr>\n",
       "      <th>14.72</th>\n",
       "      <td>1</td>\n",
       "      <td>0</td>\n",
       "      <td>1</td>\n",
       "      <td>0</td>\n",
       "      <td>9</td>\n",
       "    </tr>\n",
       "    <tr>\n",
       "      <th>14.74</th>\n",
       "      <td>1</td>\n",
       "      <td>0</td>\n",
       "      <td>1</td>\n",
       "      <td>0</td>\n",
       "      <td>8</td>\n",
       "    </tr>\n",
       "    <tr>\n",
       "      <th>14.76</th>\n",
       "      <td>1</td>\n",
       "      <td>0</td>\n",
       "      <td>1</td>\n",
       "      <td>0</td>\n",
       "      <td>7</td>\n",
       "    </tr>\n",
       "    <tr>\n",
       "      <th>14.80</th>\n",
       "      <td>2</td>\n",
       "      <td>0</td>\n",
       "      <td>2</td>\n",
       "      <td>0</td>\n",
       "      <td>6</td>\n",
       "    </tr>\n",
       "    <tr>\n",
       "      <th>14.82</th>\n",
       "      <td>2</td>\n",
       "      <td>0</td>\n",
       "      <td>2</td>\n",
       "      <td>0</td>\n",
       "      <td>4</td>\n",
       "    </tr>\n",
       "    <tr>\n",
       "      <th>14.84</th>\n",
       "      <td>2</td>\n",
       "      <td>0</td>\n",
       "      <td>2</td>\n",
       "      <td>0</td>\n",
       "      <td>2</td>\n",
       "    </tr>\n",
       "  </tbody>\n",
       "</table>\n",
       "</div>"
      ],
      "text/plain": [
       "          removed  observed  censored  entrance  at_risk\n",
       "event_at                                                \n",
       "0.00            0         0         0        11       11\n",
       "8.24            1         1         0         0       11\n",
       "8.98            1         1         0         0       10\n",
       "14.72           1         0         1         0        9\n",
       "14.74           1         0         1         0        8\n",
       "14.76           1         0         1         0        7\n",
       "14.80           2         0         2         0        6\n",
       "14.82           2         0         2         0        4\n",
       "14.84           2         0         2         0        2"
      ]
     },
     "execution_count": 149,
     "metadata": {},
     "output_type": "execute_result"
    }
   ],
   "source": [
    "exc_4.event_table"
   ]
  },
  {
   "cell_type": "code",
   "execution_count": 154,
   "metadata": {},
   "outputs": [
    {
     "name": "stdout",
     "output_type": "stream",
     "text": [
      "          No much exercise\n",
      "timeline                  \n",
      "0.00              1.000000\n",
      "0.48              0.996721\n",
      "0.74              0.996721\n",
      "0.92              0.993432\n",
      "0.96              0.993432\n",
      "...                    ...\n",
      "14.90             0.863669\n",
      "14.91             0.863669\n",
      "14.92             0.863669\n",
      "14.93             0.863669\n",
      "14.94             0.863669\n",
      "\n",
      "[113 rows x 1 columns]\n",
      "          No much exercise but move\n",
      "timeline                           \n",
      "0.00                       1.000000\n",
      "0.25                       0.999087\n",
      "0.70                       0.998174\n",
      "0.78                       0.997260\n",
      "0.80                       0.996347\n",
      "...                             ...\n",
      "14.90                      0.855499\n",
      "14.91                      0.855499\n",
      "14.92                      0.855499\n",
      "14.93                      0.855499\n",
      "14.94                      0.855499\n",
      "\n",
      "[286 rows x 1 columns]\n",
      "          3 hr exercise\n",
      "timeline               \n",
      "0.00           1.000000\n",
      "1.18           0.996970\n",
      "1.89           0.993939\n",
      "2.16           0.990909\n",
      "2.23           0.990909\n",
      "...                 ...\n",
      "14.90          0.908134\n",
      "14.91          0.908134\n",
      "14.92          0.908134\n",
      "14.93          0.908134\n",
      "14.94          0.908134\n",
      "\n",
      "[83 rows x 1 columns]\n",
      "          intense exercise\n",
      "timeline                  \n",
      "0.00              1.000000\n",
      "8.24              0.909091\n",
      "8.98              0.818182\n",
      "14.72             0.818182\n",
      "14.74             0.818182\n",
      "14.76             0.818182\n",
      "14.80             0.818182\n",
      "14.82             0.818182\n",
      "14.84             0.818182\n"
     ]
    }
   ],
   "source": [
    "print(exc_1.survival_function_)\n",
    "print(exc_2.survival_function_)\n",
    "print(exc_3.survival_function_)\n",
    "print(exc_4.survival_function_)"
   ]
  },
  {
   "cell_type": "code",
   "execution_count": 61,
   "metadata": {},
   "outputs": [
    {
     "data": {
      "text/plain": [
       "Text(0.5, 1.0, 'KMF')"
      ]
     },
     "execution_count": 61,
     "metadata": {},
     "output_type": "execute_result"
    },
    {
     "data": {
      "image/png": "[encoded data removed]",
      "text/plain": [
       "<Figure size 432x288 with 1 Axes>"
      ]
     },
     "metadata": {
      "needs_background": "light"
     },
     "output_type": "display_data"
    }
   ],
   "source": [
    "# predict probabilities of not developing diabetes\n",
    "exc_1.plot()\n",
    "exc_2.plot()\n",
    "exc_3.plot()\n",
    "exc_4.plot()\n",
    "\n",
    "plt.xlabel('Time / yr')\n",
    "plt.ylabel('Probabilities of not developing diabetes over time')\n",
    "plt.title('KMF')"
   ]
  },
  {
   "cell_type": "code",
   "execution_count": 148,
   "metadata": {},
   "outputs": [
    {
     "data": {
      "text/plain": [
       "Text(0.5, 1.0, 'KMF')"
      ]
     },
     "execution_count": 148,
     "metadata": {},
     "output_type": "execute_result"
    },
    {
     "data": {
      "image/png": "[encoded data removed]",
      "text/plain": [
       "<Figure size 432x288 with 1 Axes>"
      ]
     },
     "metadata": {
      "needs_background": "light"
     },
     "output_type": "display_data"
    }
   ],
   "source": [
    "# predict diabete probabilities of a person at certain timeline\n",
    "exc_1.plot_cumulative_density()\n",
    "exc_2.plot_cumulative_density()\n",
    "exc_3.plot_cumulative_density()\n",
    "exc_4.plot_cumulative_density()\n",
    "\n",
    "plt.xlabel('Time')\n",
    "plt.ylabel('Diabete probabilities of a person through years')\n",
    "plt.title('KMF')"
   ]
  },
  {
   "cell_type": "markdown",
   "metadata": {},
   "source": [
    "## Conclusion"
   ]
  },
  {
   "cell_type": "markdown",
   "metadata": {},
   "source": [
    "Based on the HR value and p value for each factor, we conclude that\n",
    "\n",
    "1. There is strong evidience (p<0.05) indicating that gender, to be more specific, being male significantly increased the risk of diabetes by a factor of 10.27. This is the most harmful factor identified in this study.\n",
    "2. Intense exercise, being ex-smoker, high LDL, long hours fasting glucose and high BMI alse increased the risk of diabetes.\n",
    "\n",
    "\n",
    "(NOTE: A further investigation of exercise found that although intense exercise for competitive sports increase the risk of diabete, exercise at least 3 hours a week gives the lowest development of diabetes.)\n",
    "\n",
    "3. High DBP, total fiber intake, fasting hours, junk food intake,and hbA1C are pretective factors that reduced the risk of diabetes. \n",
    "\n",
    "\n",
    "4. Base on statistical significance, we don't have enough evident (p>0.05) to claim that HDL, hypertension, fasting_insulin, ex_smoker, and healthy_vegetables have an effect on development of diabetes\n",
    "5. Based on HR (hazard ratio), these factors of following factors: age, SBP, and fasting_insulin, have relatively small effect (<10%) on delevepment of diabetes."
   ]
  },
  {
   "cell_type": "markdown",
   "metadata": {},
   "source": [
    "# Survival analysis for blood biomarkers"
   ]
  },
  {
   "cell_type": "code",
   "execution_count": 111,
   "metadata": {},
   "outputs": [
    {
     "name": "stderr",
     "output_type": "stream",
     "text": [
      "C:\\Users\\Zi Ye\\anaconda3\\lib\\site-packages\\pandas\\core\\frame.py:4153: SettingWithCopyWarning: \n",
      "A value is trying to be set on a copy of a slice from a DataFrame\n",
      "\n",
      "See the caveats in the documentation: https://pandas.pydata.org/pandas-docs/stable/user_guide/indexing.html#returning-a-view-versus-a-copy\n",
      "  downcast=downcast,\n"
     ]
    }
   ],
   "source": [
    "# select blood marker, fill na with 0\n",
    "mtb_col=[col for col in df if col.startswith('mtb_')]\n",
    "data=df[mtb_col]\n",
    "data.columns=mtb_col\n",
    "data.fillna(0,inplace=True)"
   ]
  },
  {
   "cell_type": "code",
   "execution_count": 119,
   "metadata": {},
   "outputs": [
    {
     "name": "stderr",
     "output_type": "stream",
     "text": [
      "C:\\Users\\Zi Ye\\anaconda3\\lib\\site-packages\\pandas\\core\\series.py:679: RuntimeWarning: divide by zero encountered in log\n",
      "  result = getattr(ufunc, method)(*inputs, **kwargs)\n",
      "C:\\Users\\Zi Ye\\anaconda3\\lib\\site-packages\\ipykernel_launcher.py:3: SettingWithCopyWarning: \n",
      "A value is trying to be set on a copy of a slice from a DataFrame.\n",
      "Try using .loc[row_indexer,col_indexer] = value instead\n",
      "\n",
      "See the caveats in the documentation: https://pandas.pydata.org/pandas-docs/stable/user_guide/indexing.html#returning-a-view-versus-a-copy\n",
      "  This is separate from the ipykernel package so we can avoid doing imports until\n"
     ]
    }
   ],
   "source": [
    "#log transformation to increase robustness\n",
    "log_data=data\n",
    "for i in mtb_col:\n",
    "    log_data[i]=np.log(data[i])"
   ]
  },
  {
   "cell_type": "code",
   "execution_count": 120,
   "metadata": {
    "scrolled": true
   },
   "outputs": [
    {
     "data": {
      "text/html": [
       "<div>\n",
       "<style scoped>\n",
       "    .dataframe tbody tr th:only-of-type {\n",
       "        vertical-align: middle;\n",
       "    }\n",
       "\n",
       "    .dataframe tbody tr th {\n",
       "        vertical-align: top;\n",
       "    }\n",
       "\n",
       "    .dataframe thead th {\n",
       "        text-align: right;\n",
       "    }\n",
       "</style>\n",
       "<table border=\"1\" class=\"dataframe\">\n",
       "  <thead>\n",
       "    <tr style=\"text-align: right;\">\n",
       "      <th></th>\n",
       "      <th>mtb_1368087</th>\n",
       "      <th>mtb_1380093</th>\n",
       "      <th>mtb_1812369</th>\n",
       "      <th>mtb_1838668</th>\n",
       "      <th>mtb_1042362</th>\n",
       "      <th>mtb_1091716</th>\n",
       "      <th>mtb_1228672</th>\n",
       "      <th>mtb_1542487</th>\n",
       "      <th>mtb_1272352</th>\n",
       "      <th>mtb_1391826</th>\n",
       "      <th>...</th>\n",
       "      <th>mtb_2129028</th>\n",
       "      <th>mtb_2129035</th>\n",
       "      <th>mtb_2129040</th>\n",
       "      <th>mtb_2129060</th>\n",
       "      <th>mtb_2129124</th>\n",
       "      <th>mtb_2129133</th>\n",
       "      <th>mtb_2129210</th>\n",
       "      <th>mtb_2129554</th>\n",
       "      <th>mtb_2129677</th>\n",
       "      <th>mtb_2129684</th>\n",
       "    </tr>\n",
       "  </thead>\n",
       "  <tbody>\n",
       "    <tr>\n",
       "      <th>1</th>\n",
       "      <td>2.527643</td>\n",
       "      <td>2.517414</td>\n",
       "      <td>2.187803</td>\n",
       "      <td>1.768069</td>\n",
       "      <td>2.764435</td>\n",
       "      <td>2.992116</td>\n",
       "      <td>2.423177</td>\n",
       "      <td>2.566915</td>\n",
       "      <td>2.980979</td>\n",
       "      <td>2.570236</td>\n",
       "      <td>...</td>\n",
       "      <td>2.941218</td>\n",
       "      <td>2.410198</td>\n",
       "      <td>1.624284</td>\n",
       "      <td>1.793306</td>\n",
       "      <td>2.794440</td>\n",
       "      <td>1.457883</td>\n",
       "      <td>1.321218</td>\n",
       "      <td>-inf</td>\n",
       "      <td>-inf</td>\n",
       "      <td>-inf</td>\n",
       "    </tr>\n",
       "    <tr>\n",
       "      <th>2</th>\n",
       "      <td>2.291697</td>\n",
       "      <td>2.381717</td>\n",
       "      <td>2.189999</td>\n",
       "      <td>1.964195</td>\n",
       "      <td>2.622015</td>\n",
       "      <td>2.644666</td>\n",
       "      <td>2.238478</td>\n",
       "      <td>2.208128</td>\n",
       "      <td>2.878260</td>\n",
       "      <td>2.453458</td>\n",
       "      <td>...</td>\n",
       "      <td>2.630626</td>\n",
       "      <td>2.048904</td>\n",
       "      <td>-inf</td>\n",
       "      <td>0.871605</td>\n",
       "      <td>-inf</td>\n",
       "      <td>1.295249</td>\n",
       "      <td>1.814858</td>\n",
       "      <td>-inf</td>\n",
       "      <td>-inf</td>\n",
       "      <td>-inf</td>\n",
       "    </tr>\n",
       "    <tr>\n",
       "      <th>3</th>\n",
       "      <td>2.579675</td>\n",
       "      <td>2.582614</td>\n",
       "      <td>2.250547</td>\n",
       "      <td>2.033121</td>\n",
       "      <td>3.036660</td>\n",
       "      <td>2.766449</td>\n",
       "      <td>2.152652</td>\n",
       "      <td>2.509997</td>\n",
       "      <td>2.949533</td>\n",
       "      <td>2.698949</td>\n",
       "      <td>...</td>\n",
       "      <td>2.848940</td>\n",
       "      <td>2.362682</td>\n",
       "      <td>-inf</td>\n",
       "      <td>1.672501</td>\n",
       "      <td>2.576320</td>\n",
       "      <td>1.071804</td>\n",
       "      <td>1.380419</td>\n",
       "      <td>-inf</td>\n",
       "      <td>-inf</td>\n",
       "      <td>-inf</td>\n",
       "    </tr>\n",
       "    <tr>\n",
       "      <th>4</th>\n",
       "      <td>2.406510</td>\n",
       "      <td>2.541444</td>\n",
       "      <td>2.341942</td>\n",
       "      <td>2.140547</td>\n",
       "      <td>2.793806</td>\n",
       "      <td>2.807464</td>\n",
       "      <td>2.553734</td>\n",
       "      <td>2.380531</td>\n",
       "      <td>2.978185</td>\n",
       "      <td>2.596549</td>\n",
       "      <td>...</td>\n",
       "      <td>2.718533</td>\n",
       "      <td>1.995506</td>\n",
       "      <td>-inf</td>\n",
       "      <td>1.475892</td>\n",
       "      <td>2.551433</td>\n",
       "      <td>1.156416</td>\n",
       "      <td>1.637825</td>\n",
       "      <td>-inf</td>\n",
       "      <td>-inf</td>\n",
       "      <td>-inf</td>\n",
       "    </tr>\n",
       "    <tr>\n",
       "      <th>5</th>\n",
       "      <td>2.523424</td>\n",
       "      <td>2.626578</td>\n",
       "      <td>2.234965</td>\n",
       "      <td>1.822436</td>\n",
       "      <td>2.704773</td>\n",
       "      <td>2.972440</td>\n",
       "      <td>2.413119</td>\n",
       "      <td>2.540680</td>\n",
       "      <td>3.043775</td>\n",
       "      <td>2.674955</td>\n",
       "      <td>...</td>\n",
       "      <td>2.619852</td>\n",
       "      <td>1.752728</td>\n",
       "      <td>-inf</td>\n",
       "      <td>0.991530</td>\n",
       "      <td>-inf</td>\n",
       "      <td>1.395579</td>\n",
       "      <td>1.730001</td>\n",
       "      <td>-inf</td>\n",
       "      <td>-inf</td>\n",
       "      <td>-inf</td>\n",
       "    </tr>\n",
       "  </tbody>\n",
       "</table>\n",
       "<p>5 rows × 60184 columns</p>\n",
       "</div>"
      ],
      "text/plain": [
       "   mtb_1368087  mtb_1380093  mtb_1812369  mtb_1838668  mtb_1042362  \\\n",
       "1     2.527643     2.517414     2.187803     1.768069     2.764435   \n",
       "2     2.291697     2.381717     2.189999     1.964195     2.622015   \n",
       "3     2.579675     2.582614     2.250547     2.033121     3.036660   \n",
       "4     2.406510     2.541444     2.341942     2.140547     2.793806   \n",
       "5     2.523424     2.626578     2.234965     1.822436     2.704773   \n",
       "\n",
       "   mtb_1091716  mtb_1228672  mtb_1542487  mtb_1272352  mtb_1391826  ...  \\\n",
       "1     2.992116     2.423177     2.566915     2.980979     2.570236  ...   \n",
       "2     2.644666     2.238478     2.208128     2.878260     2.453458  ...   \n",
       "3     2.766449     2.152652     2.509997     2.949533     2.698949  ...   \n",
       "4     2.807464     2.553734     2.380531     2.978185     2.596549  ...   \n",
       "5     2.972440     2.413119     2.540680     3.043775     2.674955  ...   \n",
       "\n",
       "   mtb_2129028  mtb_2129035  mtb_2129040  mtb_2129060  mtb_2129124  \\\n",
       "1     2.941218     2.410198     1.624284     1.793306     2.794440   \n",
       "2     2.630626     2.048904         -inf     0.871605         -inf   \n",
       "3     2.848940     2.362682         -inf     1.672501     2.576320   \n",
       "4     2.718533     1.995506         -inf     1.475892     2.551433   \n",
       "5     2.619852     1.752728         -inf     0.991530         -inf   \n",
       "\n",
       "   mtb_2129133  mtb_2129210  mtb_2129554  mtb_2129677  mtb_2129684  \n",
       "1     1.457883     1.321218         -inf         -inf         -inf  \n",
       "2     1.295249     1.814858         -inf         -inf         -inf  \n",
       "3     1.071804     1.380419         -inf         -inf         -inf  \n",
       "4     1.156416     1.637825         -inf         -inf         -inf  \n",
       "5     1.395579     1.730001         -inf         -inf         -inf  \n",
       "\n",
       "[5 rows x 60184 columns]"
      ]
     },
     "execution_count": 120,
     "metadata": {},
     "output_type": "execute_result"
    }
   ],
   "source": [
    "log_data.head()"
   ]
  },
  {
   "cell_type": "code",
   "execution_count": 118,
   "metadata": {},
   "outputs": [
    {
     "data": {
      "text/plain": [
       "Index(['mtb_1368087', 'mtb_1380093', 'mtb_1812369', 'mtb_1838668',\n",
       "       'mtb_1042362', 'mtb_1091716', 'mtb_1228672', 'mtb_1542487',\n",
       "       'mtb_1272352', 'mtb_1391826',\n",
       "       ...\n",
       "       'mtb_2129028', 'mtb_2129035', 'mtb_2129040', 'mtb_2129060',\n",
       "       'mtb_2129124', 'mtb_2129133', 'mtb_2129210', 'mtb_2129554',\n",
       "       'mtb_2129677', 'mtb_2129684'],\n",
       "      dtype='object', length=60184)"
      ]
     },
     "execution_count": 118,
     "metadata": {},
     "output_type": "execute_result"
    }
   ],
   "source": [
    "data.columns"
   ]
  },
  {
   "cell_type": "code",
   "execution_count": 122,
   "metadata": {},
   "outputs": [
    {
     "name": "stderr",
     "output_type": "stream",
     "text": [
      "C:\\Users\\Zi Ye\\anaconda3\\lib\\site-packages\\ipykernel_launcher.py:1: SettingWithCopyWarning: \n",
      "A value is trying to be set on a copy of a slice from a DataFrame.\n",
      "Try using .loc[row_indexer,col_indexer] = value instead\n",
      "\n",
      "See the caveats in the documentation: https://pandas.pydata.org/pandas-docs/stable/user_guide/indexing.html#returning-a-view-versus-a-copy\n",
      "  \"\"\"Entry point for launching an IPython kernel.\n",
      "C:\\Users\\Zi Ye\\anaconda3\\lib\\site-packages\\ipykernel_launcher.py:2: SettingWithCopyWarning: \n",
      "A value is trying to be set on a copy of a slice from a DataFrame.\n",
      "Try using .loc[row_indexer,col_indexer] = value instead\n",
      "\n",
      "See the caveats in the documentation: https://pandas.pydata.org/pandas-docs/stable/user_guide/indexing.html#returning-a-view-versus-a-copy\n",
      "  \n"
     ]
    },
    {
     "data": {
      "text/plain": [
       "(7840, 60186)"
      ]
     },
     "execution_count": 122,
     "metadata": {},
     "output_type": "execute_result"
    }
   ],
   "source": [
    "log_data['diabetes_time']=df['diabetes_time']\n",
    "log_data['incident_diabetes']=df['incident_diabetes']\n",
    "log_data.dropna(subset=['diabetes_time','incident_diabetes'],how='any')\n",
    "log_data.shape"
   ]
  },
  {
   "cell_type": "code",
   "execution_count": null,
   "metadata": {},
   "outputs": [],
   "source": [
    "cph=CoxPHFitter()\n",
    "cph.fit(log_data,'diabetes_time',event_col='incident_diabetes')\n",
    "cph.plot()"
   ]
  },
  {
   "cell_type": "code",
   "execution_count": null,
   "metadata": {},
   "outputs": [],
   "source": []
  }
 ],
 "metadata": {
  "kernelspec": {
   "display_name": "Python 3",
   "language": "python",
   "name": "python3"
  },
  "language_info": {
   "codemirror_mode": {
    "name": "ipython",
    "version": 3
   },
   "file_extension": ".py",
   "mimetype": "text/x-python",
   "name": "python",
   "nbconvert_exporter": "python",
   "pygments_lexer": "ipython3",
   "version": "3.7.6"
  }
 },
 "nbformat": 4,
 "nbformat_minor": 4
}
